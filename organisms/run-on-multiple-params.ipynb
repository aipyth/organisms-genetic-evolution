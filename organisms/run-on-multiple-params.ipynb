{
 "cells": [
  {
   "cell_type": "code",
   "execution_count": 2,
   "metadata": {},
   "outputs": [],
   "source": [
    "import itertools\n",
    "import os\n",
    "import shutil\n",
    "import contextlib\n",
    "import pathlib\n",
    "import json\n",
    "import time\n",
    "\n",
    "import numpy as np\n",
    "import pandas as pd\n",
    "import pyarrow as pa\n",
    "import pyarrow.parquet as pq\n",
    "\n",
    "import run\n",
    "import environment\n",
    "import evolve\n",
    "import encode\n",
    "import plot\n",
    "from utils import ClassEncoder"
   ]
  },
  {
   "cell_type": "code",
   "execution_count": 3,
   "metadata": {},
   "outputs": [],
   "source": [
    "def generate_argument_variations(arguments):\n",
    "    keys = arguments.keys()\n",
    "    values = arguments.values()\n",
    "    variations = list(itertools.product(*values))\n",
    "    argument_variations = []\n",
    "\n",
    "    for variation in variations:\n",
    "        argument_variation = dict(zip(keys, variation))\n",
    "\n",
    "        results_dir = generate_results_dir(argument_variation)\n",
    "        argument_variation['results_dir'] = results_dir\n",
    "\n",
    "        argument_variations.append(argument_variation)\n",
    "\n",
    "    return argument_variations\n",
    "\n",
    "\n",
    "def generate_results_dir(arguments):\n",
    "    selected_keys = ['iterations', 'genome_size', 'elitism', 'remove_dead_organisms', 'generation_time', 'food_energy', 'mutation', 'crossover']\n",
    "    dir_name = \"result_\"\n",
    "    for key, value in arguments.items():\n",
    "        if key not in selected_keys:\n",
    "            continue\n",
    "        if isinstance(value, str):\n",
    "            dir_name += f\"{key}_{value.replace(',', '-')}_\"\n",
    "        elif isinstance(value, (int, float)):\n",
    "            dir_name += f\"{key}_{str(value).replace(',', '-')}_\"\n",
    "        elif isinstance(value, list):\n",
    "            dir_name += f\"{key}_{'-'.join(str(v) for v in value)}_\"\n",
    "        elif isinstance(value, (evolve.Selection, evolve.Crossover, evolve.Mutation)):\n",
    "            dir_name += f\"{value.__class__.__name__}_\"\n",
    "        else:\n",
    "            dir_name += f\"{key}_\"\n",
    "    \n",
    "    return os.path.join('results', dir_name[:-1])  # Remove the trailing underscore"
   ]
  },
  {
   "cell_type": "code",
   "execution_count": 8,
   "metadata": {},
   "outputs": [
    {
     "name": "stdout",
     "output_type": "stream",
     "text": [
      "Total number of configurations (variations): 1\n"
     ]
    }
   ],
   "source": [
    "organism_vision_range = 1\n",
    "\n",
    "vision = environment.SectorVision(\n",
    "    distance=organism_vision_range,\n",
    "    distance_sectors=4,\n",
    "    angle_sectors=4,\n",
    ")\n",
    "genome_shapes = [\n",
    "  [vision.organism_input_shape, 6, 2],\n",
    "  # [vision.organism_input_shape, 12, 2],\n",
    "  # [vision.organism_input_shape, 12, 6, 2],\n",
    "  # [vision.organism_input_shape, 24, 12, 2],\n",
    "]\n",
    "\n",
    "fitness = evolve.EnergyFitness()\n",
    "\n",
    "generation_time = 80\n",
    "generations = 100\n",
    "\n",
    "arguments = {\n",
    "  'start_organism_number': [40],\n",
    "  'width': [20],\n",
    "  'height': [20],\n",
    "  'iterations': [generation_time * generations],\n",
    "  'generation_time': [generation_time],\n",
    "  'organism_size': [0.12],\n",
    "  'food_size': [0.05],\n",
    "  'organism_vision_range': [organism_vision_range],\n",
    "  'vision': [vision],\n",
    "  'food_energy': [2],\n",
    "  'food_appearance_number_rate': [0.7],\n",
    "  'energy_decrease_rate': [0.008],\n",
    "  'encoding': [encode.RealValued()],\n",
    "  'selection': [\n",
    "    # evolve.TruncationSelection(fitness=fitness, n=10),\n",
    "    # evolve.TruncationSelection(fitness=fitness, n=15),\n",
    "    evolve.TruncationSelection(fitness=fitness, n=20),\n",
    "  ],\n",
    "  'crossover': [\n",
    "    evolve.SBXCrossover(n=2),\n",
    "    # evolve.SBXCrossover(n=8),\n",
    "    evolve.ArithmeticCrossover(),\n",
    "    evolve.BLXCrossover(alpha=0.5),\n",
    "    # evolve.SBXCrossover(n=12),\n",
    "  ],\n",
    "  'mutation': [\n",
    "    evolve.GaussianMutation(mu=0, sigma=0.1, p=0.1),\n",
    "    evolve.NonUniformMutation(b=5, p=0.05, T=80*100), # predefined number of iterations 80 * 60\n",
    "    evolve.UniformMutation(low=-0.5, high=0.5, p=0.05),\n",
    "  ],\n",
    "  'elitism': [20],\n",
    "  'genome_size': genome_shapes,\n",
    "  'food_particles_at_start': [40],\n",
    "  'remove_dead_organisms': [False],\n",
    "}\n",
    "\n",
    "\n",
    "variations = generate_argument_variations(arguments)\n",
    "\n",
    "print(f'Total number of configurations (variations): {len(variations)}')"
   ]
  },
  {
   "cell_type": "code",
   "execution_count": 9,
   "metadata": {},
   "outputs": [],
   "source": [
    "def run_organisms_environment(variation):\n",
    "  if os.path.exists(variation['results_dir']):\n",
    "    variation['results_dir'] += str(time.time())[-3:]\n",
    "\n",
    "  with contextlib.suppress(Exception):\n",
    "      os.mkdir(variation['results_dir'])\n",
    "      \n",
    "  metadata_filename = os.path.join(variation['results_dir'], 'metadata.json')\n",
    "  with open(metadata_filename, 'w') as file:\n",
    "    json.dump(variation, file, cls=ClassEncoder)\n",
    "\n",
    "  run_tool = run.OrganismsSimpleEnvironmentRunTool(**variation)\n",
    "  run_tool.run()"
   ]
  },
  {
   "cell_type": "code",
   "execution_count": 10,
   "metadata": {},
   "outputs": [
    {
     "name": "stdout",
     "output_type": "stream",
     "text": [
      "Running sample №1/1\n"
     ]
    },
    {
     "name": "stderr",
     "output_type": "stream",
     "text": [
      "Simulating organisms: 100%|██████████| 2400/2400 [11:07<00:00,  3.59it/s, Number of organisms=40, Gen=29]\n"
     ]
    }
   ],
   "source": [
    "for i, var in enumerate(variations):\n",
    "  print(f'Running sample №{i+1}/{len(variations)}')\n",
    "  run_organisms_environment(var)"
   ]
  },
  {
   "cell_type": "code",
   "execution_count": 11,
   "metadata": {},
   "outputs": [
    {
     "name": "stderr",
     "output_type": "stream",
     "text": [
      " 99%|█████████▉| 2380/2399 [13:12<00:06,  3.00it/s]\n",
      "ffmpeg version n6.0 Copyright (c) 2000-2023 the FFmpeg developers\n",
      "  built with gcc 13.1.1 (GCC) 20230429\n",
      "  configuration: --prefix=/usr --disable-debug --disable-static --disable-stripping --enable-amf --enable-avisynth --enable-cuda-llvm --enable-lto --enable-fontconfig --enable-gmp --enable-gnutls --enable-gpl --enable-ladspa --enable-libaom --enable-libass --enable-libbluray --enable-libbs2b --enable-libdav1d --enable-libdrm --enable-libfreetype --enable-libfribidi --enable-libgsm --enable-libiec61883 --enable-libjack --enable-libjxl --enable-libmfx --enable-libmodplug --enable-libmp3lame --enable-libopencore_amrnb --enable-libopencore_amrwb --enable-libopenjpeg --enable-libopenmpt --enable-libopus --enable-libpulse --enable-librav1e --enable-librsvg --enable-libsoxr --enable-libspeex --enable-libsrt --enable-libssh --enable-libsvtav1 --enable-libtheora --enable-libv4l2 --enable-libvidstab --enable-libvmaf --enable-libvorbis --enable-libvpx --enable-libwebp --enable-libx264 --enable-libx265 --enable-libxcb --enable-libxml2 --enable-libxvid --enable-libzimg --enable-nvdec --enable-nvenc --enable-opencl --enable-opengl --enable-shared --enable-version3 --enable-vulkan\n",
      "  libavutil      58.  2.100 / 58.  2.100\n",
      "  libavcodec     60.  3.100 / 60.  3.100\n",
      "  libavformat    60.  3.100 / 60.  3.100\n",
      "  libavdevice    60.  1.100 / 60.  1.100\n",
      "  libavfilter     9.  3.100 /  9.  3.100\n",
      "  libswscale      7.  1.100 /  7.  1.100\n",
      "  libswresample   4. 10.100 /  4. 10.100\n",
      "  libpostproc    57.  1.100 / 57.  1.100\n",
      "Input #0, image2, from 'results/result_iterations_2400_generation_time_80_food_energy_2_ArithmeticCrossover_NonUniformMutation_elitism_20_genome_size_16-6-2_remove_dead_organisms_False/frames/%d.png':\n",
      "  Duration: 00:01:39.21, start: 0.000000, bitrate: N/A\n",
      "  Stream #0:0: Video: png, rgba(pc), 680x540 [SAR 3937:3937 DAR 34:27], 24 fps, 24 tbr, 24 tbn\n",
      "Stream mapping:\n",
      "  Stream #0:0 -> #0:0 (png (native) -> h264 (libx264))\n",
      "Press [q] to stop, [?] for help\n",
      "[libx264 @ 0x55d642f16c80] using SAR=1/1\n",
      "[libx264 @ 0x55d642f16c80] using cpu capabilities: MMX2 SSE2Fast SSSE3 SSE4.2 AVX FMA3 BMI2 AVX2\n",
      "[libx264 @ 0x55d642f16c80] profile High 4:4:4 Predictive, level 3.0, 4:4:4, 8-bit\n",
      "[libx264 @ 0x55d642f16c80] 264 - core 164 r3095 baee400 - H.264/MPEG-4 AVC codec - Copyleft 2003-2022 - http://www.videolan.org/x264.html - options: cabac=1 ref=3 deblock=1:0:0 analyse=0x3:0x113 me=hex subme=7 psy=1 psy_rd=1.00:0.00 mixed_ref=1 me_range=16 chroma_me=1 trellis=1 8x8dct=1 cqm=0 deadzone=21,11 fast_pskip=1 chroma_qp_offset=4 threads=12 lookahead_threads=2 sliced_threads=0 nr=0 decimate=1 interlaced=0 bluray_compat=0 constrained_intra=0 bframes=3 b_pyramid=2 b_adapt=1 b_bias=0 direct=1 weightb=1 open_gop=0 weightp=2 keyint=250 keyint_min=24 scenecut=40 intra_refresh=0 rc_lookahead=40 rc=crf mbtree=1 crf=23.0 qcomp=0.60 qpmin=0 qpmax=69 qpstep=4 ip_ratio=1.40 aq=1:1.00\n",
      "Output #0, mp4, to 'results/result_iterations_2400_generation_time_80_food_energy_2_ArithmeticCrossover_NonUniformMutation_elitism_20_genome_size_16-6-2_remove_dead_organisms_False/evolution.mp4':\n",
      "  Metadata:\n",
      "    encoder         : Lavf60.3.100\n",
      "  Stream #0:0: Video: h264 (avc1 / 0x31637661), yuv444p(tv, progressive), 680x540 [SAR 1:1 DAR 34:27], q=2-31, 24 fps, 12288 tbn\n",
      "    Metadata:\n",
      "      encoder         : Lavc60.3.100 libx264\n",
      "    Side data:\n",
      "      cpb: bitrate max/min/avg: 0/0/0 buffer size: 0 vbv_delay: N/A\n",
      "frame=  739 fps=112 q=25.0 size=     512kB time=00:00:30.70 bitrate= 136.6kbits/s speed=4.65x      \r"
     ]
    }
   ],
   "source": [
    "# OPTIONAL CREATE ANIMATION\n",
    "# picked_results_dir = 'results/result_iterations_2400_generation_time_80_food_energy_2_ArithmeticCrossover_NonUniformMutation_elitism_20_genome_size_16-6-2_remove_dead_organisms_False/'\n",
    "\n",
    "# org_loc = pq.read_table(os.path.join(picked_results_dir,\n",
    "#                                      'organisms_locations')).to_pandas()\n",
    "# food_loc = pq.read_table(os.path.join(picked_results_dir,\n",
    "#                                       'food_locations')).to_pandas()\n",
    "\n",
    "# org_loc.reset_index(drop=True, inplace=True)\n",
    "# food_loc.reset_index(drop=True, inplace=True)\n",
    "\n",
    "# frames_dir = os.path.join(picked_results_dir, 'frames')\n",
    "# frames_dir = pathlib.Path(picked_results_dir, 'frames')\n",
    "# frames_dir.mkdir()\n",
    "# plot.create_frames(org_loc, food_loc, arguments['width'][0], arguments['height'][0], arguments['organism_size'][0], arguments['food_size'][0], frames_dir)\n",
    "# plot.generate_video(\n",
    "#     os.path.join(picked_results_dir, 'frames/'),\n",
    "#     framerate=24,\n",
    "#     output=f'{picked_results_dir}evolution.mp4',\n",
    ")"
   ]
  },
  {
   "attachments": {},
   "cell_type": "markdown",
   "metadata": {},
   "source": [
    "## Generation with steady-state genetic algorithm"
   ]
  },
  {
   "cell_type": "code",
   "execution_count": null,
   "metadata": {},
   "outputs": [],
   "source": [
    "organism_vision_range = 1\n",
    "\n",
    "vision = environment.SectorVision(\n",
    "    distance=organism_vision_range,\n",
    "    distance_sectors=4,\n",
    "    angle_sectors=4,\n",
    ")\n",
    "genome_shapes = [\n",
    "  [vision.organism_input_shape, 6, 2],\n",
    "  # [vision.organism_input_shape, 12, 2],\n",
    "  [vision.organism_input_shape, 12, 6, 2],\n",
    "  # [vision.organism_input_shape, 24, 12, 2],\n",
    "]\n",
    "\n",
    "fitness = evolve.EnergyFitness()\n",
    "\n",
    "generation_time = 2 # as we are using steady-state GA in this implementation we need to set a small number of generation_time\n",
    "iterations = 8000\n",
    "\n",
    "arguments_steady = {\n",
    "  'start_organism_number': [40],\n",
    "  'width': [20],\n",
    "  'height': [20],\n",
    "  'iterations': [iterations],\n",
    "  'generation_time': [generation_time],\n",
    "  'organism_size': [0.12],\n",
    "  'food_size': [0.05],\n",
    "  'organism_vision_range': [organism_vision_range],\n",
    "  'vision': [vision],\n",
    "  'food_energy': [2],\n",
    "  'food_appearance_number_rate': [0.7],\n",
    "  'energy_decrease_rate': 0.008,\n",
    "  'encoding': [encode.RealValued()],\n",
    "  'selection': [\n",
    "    evolve.TruncationSelection(fitness=fitness, n=20),\n",
    "  ],\n",
    "  'crossover': [\n",
    "    evolve.SBXCrossover(n=8),\n",
    "    evolve.ArithmeticCrossover(),\n",
    "    evolve.BLXCrossover(alpha=0.5),\n",
    "  ],\n",
    "  'mutation': [\n",
    "    evolve.GaussianMutation(mu=0, sigma=0.1, p=0.1),\n",
    "    evolve.NonUniformMutation(b=5, p=0.05, T=80*100), # predefined number of iterations 80 * 60\n",
    "    evolve.UniformMutation(low=-0.5, high=0.5, p=0.05),\n",
    "  ],\n",
    "  'elitism': [20],\n",
    "  'genome_size': genome_shapes,\n",
    "  'food_particles_at_start': [40],\n",
    "  'remove_dead_organisms': [True],\n",
    "}\n",
    "\n",
    "\n",
    "variations_steady = generate_argument_variations(arguments_steady)\n",
    "\n",
    "print(f'Total number of configurations (variations): {len(variations_steady)}')"
   ]
  },
  {
   "cell_type": "code",
   "execution_count": null,
   "metadata": {},
   "outputs": [],
   "source": [
    "def run_organisms_environment(variation):\n",
    "  if os.path.exists(variation['results_dir']):\n",
    "    variation['results_dir'] += str(time.time())[-3:]\n",
    "\n",
    "  with contextlib.suppress(Exception):\n",
    "      os.mkdir(variation['results_dir'])\n",
    "      \n",
    "  metadata_filename = os.path.join(variation['results_dir'], 'metadata.json')\n",
    "  with open(metadata_filename, 'w') as file:\n",
    "    json.dump(variation, file, cls=ClassEncoder)\n",
    "\n",
    "  run_tool = run.OrganismsSimpleEnvironmentRunTool(**variation)\n",
    "  run_tool.run()"
   ]
  },
  {
   "cell_type": "code",
   "execution_count": null,
   "metadata": {},
   "outputs": [
    {
     "name": "stdout",
     "output_type": "stream",
     "text": [
      "Running sample №1/4\n"
     ]
    },
    {
     "name": "stderr",
     "output_type": "stream",
     "text": [
      "Simulating organisms: 100%|██████████| 5001/5001 [14:51<00:00,  5.61it/s, Number of organisms=31, Gen=1250]\n"
     ]
    },
    {
     "name": "stdout",
     "output_type": "stream",
     "text": [
      "Running sample №2/4\n"
     ]
    },
    {
     "name": "stderr",
     "output_type": "stream",
     "text": [
      "Simulating organisms: 100%|██████████| 5001/5001 [15:14<00:00,  5.47it/s, Number of organisms=31, Gen=1250]\n"
     ]
    },
    {
     "name": "stdout",
     "output_type": "stream",
     "text": [
      "Running sample №3/4\n"
     ]
    },
    {
     "name": "stderr",
     "output_type": "stream",
     "text": [
      "Simulating organisms: 100%|██████████| 5001/5001 [15:07<00:00,  5.51it/s, Number of organisms=31, Gen=1250]\n"
     ]
    },
    {
     "name": "stdout",
     "output_type": "stream",
     "text": [
      "Running sample №4/4\n"
     ]
    },
    {
     "name": "stderr",
     "output_type": "stream",
     "text": [
      "Simulating organisms: 100%|██████████| 5001/5001 [15:36<00:00,  5.34it/s, Number of organisms=31, Gen=1250]\n"
     ]
    }
   ],
   "source": [
    "for i, var in enumerate(variations_steady):\n",
    "  print(f'Running sample №{i+1}/{len(variations_steady)}')\n",
    "  run_organisms_environment(var)"
   ]
  },
  {
   "cell_type": "code",
   "execution_count": null,
   "metadata": {},
   "outputs": [],
   "source": []
  }
 ],
 "metadata": {
  "kernelspec": {
   "display_name": "organisms-OXOfOzx5",
   "language": "python",
   "name": "python3"
  },
  "language_info": {
   "codemirror_mode": {
    "name": "ipython",
    "version": 3
   },
   "file_extension": ".py",
   "mimetype": "text/x-python",
   "name": "python",
   "nbconvert_exporter": "python",
   "pygments_lexer": "ipython3",
   "version": "3.10.11"
  },
  "orig_nbformat": 4
 },
 "nbformat": 4,
 "nbformat_minor": 2
}
