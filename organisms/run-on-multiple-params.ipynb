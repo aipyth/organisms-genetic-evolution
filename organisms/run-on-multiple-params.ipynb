{
 "cells": [
  {
   "cell_type": "code",
   "execution_count": 12,
   "metadata": {},
   "outputs": [],
   "source": [
    "import itertools\n",
    "import os\n",
    "import shutil\n",
    "import contextlib\n",
    "import pathlib\n",
    "import json\n",
    "import time\n",
    "\n",
    "import numpy as np\n",
    "import pandas as pd\n",
    "import pyarrow as pa\n",
    "import pyarrow.parquet as pq\n",
    "\n",
    "import run\n",
    "import environment\n",
    "import evolve\n",
    "import encode\n",
    "import plot\n",
    "from utils import ClassEncoder"
   ]
  },
  {
   "cell_type": "code",
   "execution_count": 13,
   "metadata": {},
   "outputs": [],
   "source": [
    "def generate_argument_variations(arguments):\n",
    "    keys = arguments.keys()\n",
    "    values = arguments.values()\n",
    "    variations = list(itertools.product(*values))\n",
    "    argument_variations = []\n",
    "\n",
    "    for variation in variations:\n",
    "        argument_variation = dict(zip(keys, variation))\n",
    "\n",
    "        results_dir = generate_results_dir(argument_variation)\n",
    "        argument_variation['results_dir'] = results_dir\n",
    "\n",
    "        argument_variations.append(argument_variation)\n",
    "\n",
    "    return argument_variations\n",
    "\n",
    "\n",
    "def generate_results_dir(arguments):\n",
    "    selected_keys = ['iterations', 'genome_size', 'elitism', 'remove_dead_organisms', 'generation_time', 'food_energy', 'mutation', 'crossover']\n",
    "    dir_name = \"result_\"\n",
    "    for key, value in arguments.items():\n",
    "        if key not in selected_keys:\n",
    "            continue\n",
    "        if isinstance(value, str):\n",
    "            dir_name += f\"{key}_{value.replace(',', '-')}_\"\n",
    "        elif isinstance(value, (int, float)):\n",
    "            dir_name += f\"{key}_{str(value).replace(',', '-')}_\"\n",
    "        elif isinstance(value, list):\n",
    "            dir_name += f\"{key}_{'-'.join(str(v) for v in value)}_\"\n",
    "        elif isinstance(value, (evolve.Selection, evolve.Crossover, evolve.Mutation)):\n",
    "            dir_name += f\"{value.__class__.__name__}_\"\n",
    "        else:\n",
    "            dir_name += f\"{key}_\"\n",
    "    \n",
    "    return os.path.join('results', dir_name[:-1])  # Remove the trailing underscore"
   ]
  },
  {
   "cell_type": "code",
   "execution_count": 14,
   "metadata": {},
   "outputs": [
    {
     "name": "stdout",
     "output_type": "stream",
     "text": [
      "Total number of configurations (variations): 18\n"
     ]
    }
   ],
   "source": [
    "organism_vision_range = 1\n",
    "\n",
    "vision = environment.SectorVision(\n",
    "    distance=organism_vision_range,\n",
    "    distance_sectors=4,\n",
    "    angle_sectors=4,\n",
    ")\n",
    "genome_shapes = [\n",
    "  [vision.organism_input_shape, 6, 2],\n",
    "  # [vision.organism_input_shape, 12, 2],\n",
    "  [vision.organism_input_shape, 12, 6, 2],\n",
    "  # [vision.organism_input_shape, 24, 12, 2],\n",
    "]\n",
    "\n",
    "fitness = evolve.EnergyFitness()\n",
    "\n",
    "generation_time = 80\n",
    "generations = 100\n",
    "\n",
    "arguments = {\n",
    "  'start_organism_number': [40],\n",
    "  'width': [20],\n",
    "  'height': [20],\n",
    "  'iterations': [generation_time * generations],\n",
    "  'generation_time': [generation_time],\n",
    "  'organism_size': [0.12],\n",
    "  'food_size': [0.05],\n",
    "  'organism_vision_range': [organism_vision_range],\n",
    "  'vision': [vision],\n",
    "  'food_energy': [2],\n",
    "  'food_appearance_number_rate': [0.7],\n",
    "  'energy_decrease_rate': [0.008],\n",
    "  'encoding': [encode.RealValued()],\n",
    "  'selection': [\n",
    "    # evolve.TruncationSelection(fitness=fitness, n=10),\n",
    "    # evolve.TruncationSelection(fitness=fitness, n=15),\n",
    "    evolve.TruncationSelection(fitness=fitness, n=20),\n",
    "  ],\n",
    "  'crossover': [\n",
    "    evolve.SBXCrossover(n=2),\n",
    "    # evolve.SBXCrossover(n=8),\n",
    "    evolve.ArithmeticCrossover(),\n",
    "    evolve.BLXCrossover(alpha=0.5),\n",
    "    # evolve.SBXCrossover(n=12),\n",
    "  ],\n",
    "  'mutation': [\n",
    "    evolve.GaussianMutation(mu=0, sigma=0.1, p=0.1),\n",
    "    evolve.NonUniformMutation(b=5, p=0.05, T=80*100), # predefined number of iterations 80 * 60\n",
    "    evolve.UniformMutation(low=-0.5, high=0.5, p=0.05),\n",
    "  ],\n",
    "  'elitism': [20],\n",
    "  'genome_size': genome_shapes,\n",
    "  'food_particles_at_start': [40],\n",
    "  'remove_dead_organisms': [False],\n",
    "}\n",
    "\n",
    "\n",
    "variations = generate_argument_variations(arguments)\n",
    "\n",
    "print(f'Total number of configurations (variations): {len(variations)}')"
   ]
  },
  {
   "cell_type": "code",
   "execution_count": 15,
   "metadata": {},
   "outputs": [],
   "source": [
    "def run_organisms_environment(variation):\n",
    "  if os.path.exists(variation['results_dir']):\n",
    "    variation['results_dir'] += str(time.time())[-3:]\n",
    "\n",
    "  with contextlib.suppress(Exception):\n",
    "      os.mkdir(variation['results_dir'])\n",
    "      \n",
    "  metadata_filename = os.path.join(variation['results_dir'], 'metadata.json')\n",
    "  with open(metadata_filename, 'w') as file:\n",
    "    json.dump(variation, file, cls=ClassEncoder)\n",
    "\n",
    "  run_tool = run.OrganismsSimpleEnvironmentRunTool(**variation)\n",
    "  run_tool.run()"
   ]
  },
  {
   "cell_type": "code",
   "execution_count": 16,
   "metadata": {},
   "outputs": [
    {
     "name": "stdout",
     "output_type": "stream",
     "text": [
      "Running sample №1/18\n"
     ]
    },
    {
     "name": "stderr",
     "output_type": "stream",
     "text": [
      "Simulating organisms: 100%|██████████| 8000/8000 [32:05<00:00,  4.15it/s, Number of organisms=40, Gen=99]\n"
     ]
    },
    {
     "name": "stdout",
     "output_type": "stream",
     "text": [
      "Running sample №2/18\n"
     ]
    },
    {
     "name": "stderr",
     "output_type": "stream",
     "text": [
      "Simulating organisms: 100%|██████████| 8000/8000 [31:52<00:00,  4.18it/s, Number of organisms=40, Gen=99]\n"
     ]
    },
    {
     "name": "stdout",
     "output_type": "stream",
     "text": [
      "Running sample №3/18\n"
     ]
    },
    {
     "name": "stderr",
     "output_type": "stream",
     "text": [
      "Simulating organisms: 100%|██████████| 8000/8000 [31:37<00:00,  4.22it/s, Number of organisms=40, Gen=99]\n"
     ]
    },
    {
     "name": "stdout",
     "output_type": "stream",
     "text": [
      "Running sample №4/18\n"
     ]
    },
    {
     "name": "stderr",
     "output_type": "stream",
     "text": [
      "Simulating organisms: 100%|██████████| 8000/8000 [31:36<00:00,  4.22it/s, Number of organisms=40, Gen=99]\n"
     ]
    },
    {
     "name": "stdout",
     "output_type": "stream",
     "text": [
      "Running sample №5/18\n"
     ]
    },
    {
     "name": "stderr",
     "output_type": "stream",
     "text": [
      "Simulating organisms: 100%|██████████| 8000/8000 [31:52<00:00,  4.18it/s, Number of organisms=40, Gen=99]\n"
     ]
    },
    {
     "name": "stdout",
     "output_type": "stream",
     "text": [
      "Running sample №6/18\n"
     ]
    },
    {
     "name": "stderr",
     "output_type": "stream",
     "text": [
      "Simulating organisms: 100%|██████████| 8000/8000 [31:57<00:00,  4.17it/s, Number of organisms=40, Gen=99]\n"
     ]
    },
    {
     "name": "stdout",
     "output_type": "stream",
     "text": [
      "Running sample №7/18\n"
     ]
    },
    {
     "name": "stderr",
     "output_type": "stream",
     "text": [
      "Simulating organisms: 100%|██████████| 8000/8000 [31:49<00:00,  4.19it/s, Number of organisms=40, Gen=99]\n"
     ]
    },
    {
     "name": "stdout",
     "output_type": "stream",
     "text": [
      "Running sample №8/18\n"
     ]
    },
    {
     "name": "stderr",
     "output_type": "stream",
     "text": [
      "Simulating organisms: 100%|██████████| 8000/8000 [31:18<00:00,  4.26it/s, Number of organisms=40, Gen=99]\n"
     ]
    },
    {
     "name": "stdout",
     "output_type": "stream",
     "text": [
      "Running sample №9/18\n"
     ]
    },
    {
     "name": "stderr",
     "output_type": "stream",
     "text": [
      "Simulating organisms: 100%|██████████| 8000/8000 [30:58<00:00,  4.30it/s, Number of organisms=40, Gen=99]\n"
     ]
    },
    {
     "name": "stdout",
     "output_type": "stream",
     "text": [
      "Running sample №10/18\n"
     ]
    },
    {
     "name": "stderr",
     "output_type": "stream",
     "text": [
      "Simulating organisms: 100%|██████████| 8000/8000 [31:09<00:00,  4.28it/s, Number of organisms=40, Gen=99]\n"
     ]
    },
    {
     "name": "stdout",
     "output_type": "stream",
     "text": [
      "Running sample №11/18\n"
     ]
    },
    {
     "name": "stderr",
     "output_type": "stream",
     "text": [
      "Simulating organisms: 100%|██████████| 8000/8000 [31:04<00:00,  4.29it/s, Number of organisms=40, Gen=99]\n"
     ]
    },
    {
     "name": "stdout",
     "output_type": "stream",
     "text": [
      "Running sample №12/18\n"
     ]
    },
    {
     "name": "stderr",
     "output_type": "stream",
     "text": [
      "Simulating organisms: 100%|██████████| 8000/8000 [31:23<00:00,  4.25it/s, Number of organisms=40, Gen=99]\n"
     ]
    },
    {
     "name": "stdout",
     "output_type": "stream",
     "text": [
      "Running sample №13/18\n"
     ]
    },
    {
     "name": "stderr",
     "output_type": "stream",
     "text": [
      "Simulating organisms: 100%|██████████| 8000/8000 [31:21<00:00,  4.25it/s, Number of organisms=40, Gen=99]\n"
     ]
    },
    {
     "name": "stdout",
     "output_type": "stream",
     "text": [
      "Running sample №14/18\n"
     ]
    },
    {
     "name": "stderr",
     "output_type": "stream",
     "text": [
      "Simulating organisms: 100%|██████████| 8000/8000 [31:11<00:00,  4.27it/s, Number of organisms=40, Gen=99]\n"
     ]
    },
    {
     "name": "stdout",
     "output_type": "stream",
     "text": [
      "Running sample №15/18\n"
     ]
    },
    {
     "name": "stderr",
     "output_type": "stream",
     "text": [
      "Simulating organisms: 100%|██████████| 8000/8000 [30:56<00:00,  4.31it/s, Number of organisms=40, Gen=99]\n"
     ]
    },
    {
     "name": "stdout",
     "output_type": "stream",
     "text": [
      "Running sample №16/18\n"
     ]
    },
    {
     "name": "stderr",
     "output_type": "stream",
     "text": [
      "Simulating organisms: 100%|██████████| 8000/8000 [31:23<00:00,  4.25it/s, Number of organisms=40, Gen=99]\n"
     ]
    },
    {
     "name": "stdout",
     "output_type": "stream",
     "text": [
      "Running sample №17/18\n"
     ]
    },
    {
     "name": "stderr",
     "output_type": "stream",
     "text": [
      "Simulating organisms: 100%|██████████| 8000/8000 [32:45<00:00,  4.07it/s, Number of organisms=40, Gen=99]  \n"
     ]
    },
    {
     "name": "stdout",
     "output_type": "stream",
     "text": [
      "Running sample №18/18\n"
     ]
    },
    {
     "name": "stderr",
     "output_type": "stream",
     "text": [
      "Simulating organisms: 100%|██████████| 8000/8000 [31:17<00:00,  4.26it/s, Number of organisms=40, Gen=99]\n"
     ]
    }
   ],
   "source": [
    "for i, var in enumerate(variations):\n",
    "  print(f'Running sample №{i+1}/{len(variations)}')\n",
    "  run_organisms_environment(var)"
   ]
  },
  {
   "cell_type": "code",
   "execution_count": 17,
   "metadata": {},
   "outputs": [],
   "source": [
    "# OPTIONAL CREATE ANIMATION\n",
    "# picked_results_dir = 'results/result_iterations_2400_generation_time_80_food_energy_2_ArithmeticCrossover_NonUniformMutation_elitism_20_genome_size_16-6-2_remove_dead_organisms_False/'\n",
    "\n",
    "# org_loc = pq.read_table(os.path.join(picked_results_dir,\n",
    "#                                      'organisms_locations')).to_pandas()\n",
    "# food_loc = pq.read_table(os.path.join(picked_results_dir,\n",
    "#                                       'food_locations')).to_pandas()\n",
    "\n",
    "# org_loc.reset_index(drop=True, inplace=True)\n",
    "# food_loc.reset_index(drop=True, inplace=True)\n",
    "\n",
    "# frames_dir = os.path.join(picked_results_dir, 'frames')\n",
    "# frames_dir = pathlib.Path(picked_results_dir, 'frames')\n",
    "# frames_dir.mkdir()\n",
    "# plot.create_frames(org_loc, food_loc, arguments['width'][0], arguments['height'][0], arguments['organism_size'][0], arguments['food_size'][0], frames_dir)\n",
    "# plot.generate_video(\n",
    "#     os.path.join(picked_results_dir, 'frames/'),\n",
    "#     framerate=24,\n",
    "#     output=f'{picked_results_dir}evolution.mp4',\n",
    "# )"
   ]
  },
  {
   "attachments": {},
   "cell_type": "markdown",
   "metadata": {},
   "source": [
    "## Generation with steady-state genetic algorithm"
   ]
  },
  {
   "cell_type": "code",
   "execution_count": 18,
   "metadata": {},
   "outputs": [
    {
     "ename": "TypeError",
     "evalue": "'float' object is not iterable",
     "output_type": "error",
     "traceback": [
      "\u001b[0;31m---------------------------------------------------------------------------\u001b[0m",
      "\u001b[0;31mTypeError\u001b[0m                                 Traceback (most recent call last)",
      "Cell \u001b[0;32mIn[18], line 54\u001b[0m\n\u001b[1;32m     18\u001b[0m iterations \u001b[39m=\u001b[39m \u001b[39m8000\u001b[39m\n\u001b[1;32m     20\u001b[0m arguments_steady \u001b[39m=\u001b[39m {\n\u001b[1;32m     21\u001b[0m   \u001b[39m'\u001b[39m\u001b[39mstart_organism_number\u001b[39m\u001b[39m'\u001b[39m: [\u001b[39m40\u001b[39m],\n\u001b[1;32m     22\u001b[0m   \u001b[39m'\u001b[39m\u001b[39mwidth\u001b[39m\u001b[39m'\u001b[39m: [\u001b[39m20\u001b[39m],\n\u001b[0;32m   (...)\u001b[0m\n\u001b[1;32m     50\u001b[0m   \u001b[39m'\u001b[39m\u001b[39mremove_dead_organisms\u001b[39m\u001b[39m'\u001b[39m: [\u001b[39mTrue\u001b[39;00m],\n\u001b[1;32m     51\u001b[0m }\n\u001b[0;32m---> 54\u001b[0m variations_steady \u001b[39m=\u001b[39m generate_argument_variations(arguments_steady)\n\u001b[1;32m     56\u001b[0m \u001b[39mprint\u001b[39m(\u001b[39mf\u001b[39m\u001b[39m'\u001b[39m\u001b[39mTotal number of configurations (variations): \u001b[39m\u001b[39m{\u001b[39;00m\u001b[39mlen\u001b[39m(variations_steady)\u001b[39m}\u001b[39;00m\u001b[39m'\u001b[39m)\n",
      "Cell \u001b[0;32mIn[13], line 4\u001b[0m, in \u001b[0;36mgenerate_argument_variations\u001b[0;34m(arguments)\u001b[0m\n\u001b[1;32m      2\u001b[0m keys \u001b[39m=\u001b[39m arguments\u001b[39m.\u001b[39mkeys()\n\u001b[1;32m      3\u001b[0m values \u001b[39m=\u001b[39m arguments\u001b[39m.\u001b[39mvalues()\n\u001b[0;32m----> 4\u001b[0m variations \u001b[39m=\u001b[39m \u001b[39mlist\u001b[39m(itertools\u001b[39m.\u001b[39;49mproduct(\u001b[39m*\u001b[39;49mvalues))\n\u001b[1;32m      5\u001b[0m argument_variations \u001b[39m=\u001b[39m []\n\u001b[1;32m      7\u001b[0m \u001b[39mfor\u001b[39;00m variation \u001b[39min\u001b[39;00m variations:\n",
      "\u001b[0;31mTypeError\u001b[0m: 'float' object is not iterable"
     ]
    }
   ],
   "source": [
    "organism_vision_range = 1\n",
    "\n",
    "vision = environment.SectorVision(\n",
    "    distance=organism_vision_range,\n",
    "    distance_sectors=4,\n",
    "    angle_sectors=4,\n",
    ")\n",
    "genome_shapes = [\n",
    "  [vision.organism_input_shape, 6, 2],\n",
    "  # [vision.organism_input_shape, 12, 2],\n",
    "  # [vision.organism_input_shape, 12, 6, 2],\n",
    "  # [vision.organism_input_shape, 24, 12, 2],\n",
    "]\n",
    "\n",
    "fitness = evolve.EnergyFitness()\n",
    "\n",
    "generation_time_steady = 2 # as we are using steady-state GA in this implementation we need to set a small number of generation_time\n",
    "iterations_steady = 8000\n",
    "\n",
    "arguments_steady = {\n",
    "  'start_organism_number': [40],\n",
    "  'width': [20],\n",
    "  'height': [20],\n",
    "  'iterations': [iterations_steady],\n",
    "  'generation_time': [generation_time_steady],\n",
    "  'organism_size': [0.12],\n",
    "  'food_size': [0.05],\n",
    "  'organism_vision_range': [organism_vision_range],\n",
    "  'vision': [vision],\n",
    "  'food_energy': [2],\n",
    "  'food_appearance_number_rate': [0.7],\n",
    "  'energy_decrease_rate': [0.008],\n",
    "  'encoding': [encode.RealValued()],\n",
    "  'selection': [\n",
    "    evolve.TruncationSelection(fitness=fitness, n=20),\n",
    "  ],\n",
    "  'crossover': [\n",
    "    evolve.SBXCrossover(n=8),\n",
    "    evolve.ArithmeticCrossover(),\n",
    "    evolve.BLXCrossover(alpha=0.5),\n",
    "  ],\n",
    "  'mutation': [\n",
    "    evolve.GaussianMutation(mu=0, sigma=0.1, p=0.1),\n",
    "    evolve.NonUniformMutation(b=5, p=0.05, T=80*100), # predefined number of iterations 80 * 60\n",
    "    evolve.UniformMutation(low=-0.5, high=0.5, p=0.05),\n",
    "  ],\n",
    "  'elitism': [20],\n",
    "  'genome_size': genome_shapes,\n",
    "  'food_particles_at_start': [40],\n",
    "  'remove_dead_organisms': [True],\n",
    "}\n",
    "\n",
    "\n",
    "variations_steady = generate_argument_variations(arguments_steady)\n",
    "\n",
    "print(f'Total number of configurations (variations): {len(variations_steady)}')"
   ]
  },
  {
   "cell_type": "code",
   "execution_count": null,
   "metadata": {},
   "outputs": [],
   "source": [
    "def run_organisms_environment(variation):\n",
    "  if os.path.exists(variation['results_dir']):\n",
    "    variation['results_dir'] += str(time.time())[-3:]\n",
    "\n",
    "  with contextlib.suppress(Exception):\n",
    "      os.mkdir(variation['results_dir'])\n",
    "      \n",
    "  metadata_filename = os.path.join(variation['results_dir'], 'metadata.json')\n",
    "  with open(metadata_filename, 'w') as file:\n",
    "    json.dump(variation, file, cls=ClassEncoder)\n",
    "\n",
    "  run_tool = run.OrganismsSimpleEnvironmentRunTool(**variation)\n",
    "  run_tool.run()"
   ]
  },
  {
   "cell_type": "code",
   "execution_count": null,
   "metadata": {},
   "outputs": [
    {
     "name": "stdout",
     "output_type": "stream",
     "text": [
      "Running sample №1/4\n"
     ]
    },
    {
     "name": "stderr",
     "output_type": "stream",
     "text": [
      "Simulating organisms: 100%|██████████| 5001/5001 [14:51<00:00,  5.61it/s, Number of organisms=31, Gen=1250]\n"
     ]
    },
    {
     "name": "stdout",
     "output_type": "stream",
     "text": [
      "Running sample №2/4\n"
     ]
    },
    {
     "name": "stderr",
     "output_type": "stream",
     "text": [
      "Simulating organisms: 100%|██████████| 5001/5001 [15:14<00:00,  5.47it/s, Number of organisms=31, Gen=1250]\n"
     ]
    },
    {
     "name": "stdout",
     "output_type": "stream",
     "text": [
      "Running sample №3/4\n"
     ]
    },
    {
     "name": "stderr",
     "output_type": "stream",
     "text": [
      "Simulating organisms: 100%|██████████| 5001/5001 [15:07<00:00,  5.51it/s, Number of organisms=31, Gen=1250]\n"
     ]
    },
    {
     "name": "stdout",
     "output_type": "stream",
     "text": [
      "Running sample №4/4\n"
     ]
    },
    {
     "name": "stderr",
     "output_type": "stream",
     "text": [
      "Simulating organisms: 100%|██████████| 5001/5001 [15:36<00:00,  5.34it/s, Number of organisms=31, Gen=1250]\n"
     ]
    }
   ],
   "source": [
    "for i, var in enumerate(variations_steady):\n",
    "  print(f'Running sample №{i+1}/{len(variations_steady)}')\n",
    "  run_organisms_environment(var)"
   ]
  },
  {
   "cell_type": "code",
   "execution_count": null,
   "metadata": {},
   "outputs": [],
   "source": []
  }
 ],
 "metadata": {
  "kernelspec": {
   "display_name": "organisms-OXOfOzx5",
   "language": "python",
   "name": "python3"
  },
  "language_info": {
   "codemirror_mode": {
    "name": "ipython",
    "version": 3
   },
   "file_extension": ".py",
   "mimetype": "text/x-python",
   "name": "python",
   "nbconvert_exporter": "python",
   "pygments_lexer": "ipython3",
   "version": "3.10.11"
  },
  "orig_nbformat": 4
 },
 "nbformat": 4,
 "nbformat_minor": 2
}
