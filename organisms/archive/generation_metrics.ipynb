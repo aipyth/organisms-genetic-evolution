{
 "cells": [
  {
   "cell_type": "code",
   "execution_count": null,
   "metadata": {},
   "outputs": [],
   "source": [
    "import pandas as pd\n",
    "import numpy as np\n",
    "\n",
    "from IPython.display import display\n",
    "\n",
    "import os"
   ]
  },
  {
   "cell_type": "code",
   "execution_count": null,
   "metadata": {},
   "outputs": [],
   "source": [
    "RESULT_DIR = './results/2023-05-10 15:05:18.096710/'\n",
    "\n",
    "os.chdir(RESULT_DIR)"
   ]
  },
  {
   "cell_type": "code",
   "execution_count": null,
   "metadata": {},
   "outputs": [],
   "source": [
    "organisms_location = pd.read_csv('./organisms_locations.csv')\n",
    "food_location = pd.read_csv('./food_locations.csv')\n",
    "eaten_food = pd.read_csv('./eaten_food.csv')\n",
    "organisms_stats = pd.read_csv('./organisms_stats.csv', header=0)"
   ]
  }
 ],
 "metadata": {
  "language_info": {
   "name": "python"
  },
  "orig_nbformat": 4
 },
 "nbformat": 4,
 "nbformat_minor": 2
}
